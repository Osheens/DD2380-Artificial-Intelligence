{
  "nbformat": 4,
  "nbformat_minor": 0,
  "metadata": {
    "kernelspec": {
      "display_name": "Python 3",
      "language": "python",
      "name": "python3"
    },
    "language_info": {
      "codemirror_mode": {
        "name": "ipython",
        "version": 3
      },
      "file_extension": ".py",
      "mimetype": "text/x-python",
      "name": "python",
      "nbconvert_exporter": "python",
      "pygments_lexer": "ipython3",
      "version": "3.7.2"
    },
    "colab": {
      "name": "Linear_programming_optimal_solution.ipynb",
      "provenance": []
    }
  },
  "cells": [
    {
      "cell_type": "code",
      "metadata": {
        "id": "6y7k77Sx29Pu",
        "colab_type": "code",
        "colab": {}
      },
      "source": [
        "## Import required packages\n",
        "import pandas as pd\n",
        "import numpy as np\n",
        "import pulp as plp\n"
      ],
      "execution_count": 0,
      "outputs": []
    },
    {
      "cell_type": "code",
      "metadata": {
        "id": "Q36nJaBh29P4",
        "colab_type": "code",
        "colab": {}
      },
      "source": [
        "## Create a list of doctors and patients\n",
        "\n",
        "doctors = ['Dc','Db']\n",
        "patients = ['pc1', 'pb2', 'pb3', 'pc4', 'pc5', 'pc6', 'pb7', 'pb8']\n"
      ],
      "execution_count": 0,
      "outputs": []
    },
    {
      "cell_type": "code",
      "metadata": {
        "id": "JjAwHCLk29P-",
        "colab_type": "code",
        "colab": {}
      },
      "source": [
        "## Define total shift cost per patient\n",
        "costs = {'Dc':{'pc1':3,'pb2':15,'pb3':15,'pc4':3,'pc5':3, 'pc6':3, 'pb7':15, 'pb8':15},\n",
        "         'Db':{'pc1':5,'pb2':10,'pb3':10,'pc4':5,'pc5':5, 'pc6':5, 'pb7':10, 'pb8':10}}\n"
      ],
      "execution_count": 0,
      "outputs": []
    },
    {
      "cell_type": "code",
      "metadata": {
        "id": "W58rGVJq29QG",
        "colab_type": "code",
        "colab": {}
      },
      "source": [
        "## Problem Definition\n",
        "\n",
        "problem = plp.LpProblem('Xray Unit Scheduling', sense = plp.LpMinimize)\n",
        "combinations = [(docs, pats) for docs in doctors for pats in patients]\n",
        "assignment = plp.LpVariable.dicts(\"Assignment\", (doctors, patients), 0, None, plp.LpBinary)\n"
      ],
      "execution_count": 0,
      "outputs": []
    },
    {
      "cell_type": "code",
      "metadata": {
        "scrolled": true,
        "id": "7F6ZqZQd29QM",
        "colab_type": "code",
        "outputId": "9dbe0cbe-0b27-46a1-addc-c52664958b21",
        "colab": {}
      },
      "source": [
        "combinations"
      ],
      "execution_count": 0,
      "outputs": [
        {
          "output_type": "execute_result",
          "data": {
            "text/plain": [
              "[('Dc', 'pc1'),\n",
              " ('Dc', 'pb2'),\n",
              " ('Dc', 'pb3'),\n",
              " ('Dc', 'pc4'),\n",
              " ('Dc', 'pc5'),\n",
              " ('Dc', 'pc6'),\n",
              " ('Dc', 'pb7'),\n",
              " ('Dc', 'pb8'),\n",
              " ('Db', 'pc1'),\n",
              " ('Db', 'pb2'),\n",
              " ('Db', 'pb3'),\n",
              " ('Db', 'pc4'),\n",
              " ('Db', 'pc5'),\n",
              " ('Db', 'pc6'),\n",
              " ('Db', 'pb7'),\n",
              " ('Db', 'pb8')]"
            ]
          },
          "metadata": {
            "tags": []
          },
          "execution_count": 5
        }
      ]
    },
    {
      "cell_type": "code",
      "metadata": {
        "id": "8f5V7ujb29QX",
        "colab_type": "code",
        "colab": {}
      },
      "source": [
        "## The objective function\n",
        "\n",
        "\n",
        "problem += (plp.lpSum([assignment['Db'][pats]*costs['Db'][pats] for pats in patients]) - plp.lpSum([assignment['Dc'][pats]*costs['Dc'][pats] for pats in patients]))>=0 \n",
        "\n",
        "#problem += (plp.lpSum([assignment[docs][pats]*costs[docs][pats] for (docs,pats) in combinations]))"
      ],
      "execution_count": 0,
      "outputs": []
    },
    {
      "cell_type": "code",
      "metadata": {
        "id": "SnfBhJ8R29Qd",
        "colab_type": "code",
        "colab": {}
      },
      "source": [
        "## Constraints\n",
        "\n",
        "for docs in doctors:\n",
        "    problem += plp.lpSum([assignment[docs][pats] for pats in patients]) >= 1 \n",
        "    \n",
        "for pats in patients:\n",
        "    problem += plp.lpSum([assignment[docs][pats] for docs in doctors]) == 1"
      ],
      "execution_count": 0,
      "outputs": []
    },
    {
      "cell_type": "code",
      "metadata": {
        "id": "0NPj2N0T29Qj",
        "colab_type": "code",
        "outputId": "1c3bfcce-bf00-4b73-ce34-1d88e3e4e8ab",
        "colab": {}
      },
      "source": [
        "problem.solve()\n",
        "plp.LpStatus[problem.status]"
      ],
      "execution_count": 0,
      "outputs": [
        {
          "output_type": "execute_result",
          "data": {
            "text/plain": [
              "'Optimal'"
            ]
          },
          "metadata": {
            "tags": []
          },
          "execution_count": 8
        }
      ]
    },
    {
      "cell_type": "code",
      "metadata": {
        "id": "Vh91GReH29Qq",
        "colab_type": "code",
        "outputId": "266949e7-f50f-408a-9999-eb25d7e9f197",
        "colab": {}
      },
      "source": [
        "#total_cost = plp.value(problem.objective)\n",
        "total_cost = max(sum([assignment['Dc'][pats].varValue*costs['Dc'][pats]for pats in patients]),sum([assignment['Db'][pats].varValue*costs['Db'][pats]for pats in patients]))\n",
        "\n",
        "total_cost"
      ],
      "execution_count": 0,
      "outputs": [
        {
          "output_type": "execute_result",
          "data": {
            "text/plain": [
              "30.0"
            ]
          },
          "metadata": {
            "tags": []
          },
          "execution_count": 16
        }
      ]
    },
    {
      "cell_type": "code",
      "metadata": {
        "id": "hpmTeLae29Qx",
        "colab_type": "code",
        "outputId": "431044bb-5a25-45a5-dfa1-2af320a02c80",
        "colab": {}
      },
      "source": [
        "# printing \n",
        "\n",
        "problem"
      ],
      "execution_count": 0,
      "outputs": [
        {
          "output_type": "execute_result",
          "data": {
            "text/plain": [
              "Xray Unit Scheduling:\n",
              "MINIMIZE\n",
              "None\n",
              "SUBJECT TO\n",
              "_C1: 10 Assignment_Db_pb2 + 10 Assignment_Db_pb3 + 10 Assignment_Db_pb7\n",
              " + 10 Assignment_Db_pb8 + 5 Assignment_Db_pc1 + 5 Assignment_Db_pc4\n",
              " + 5 Assignment_Db_pc5 + 5 Assignment_Db_pc6 - 15 Assignment_Dc_pb2\n",
              " - 15 Assignment_Dc_pb3 - 15 Assignment_Dc_pb7 - 15 Assignment_Dc_pb8\n",
              " - 3 Assignment_Dc_pc1 - 3 Assignment_Dc_pc4 - 3 Assignment_Dc_pc5\n",
              " - 3 Assignment_Dc_pc6 >= 0\n",
              "\n",
              "_C2: Assignment_Dc_pb2 + Assignment_Dc_pb3 + Assignment_Dc_pb7\n",
              " + Assignment_Dc_pb8 + Assignment_Dc_pc1 + Assignment_Dc_pc4\n",
              " + Assignment_Dc_pc5 + Assignment_Dc_pc6 >= 1\n",
              "\n",
              "_C3: Assignment_Db_pb2 + Assignment_Db_pb3 + Assignment_Db_pb7\n",
              " + Assignment_Db_pb8 + Assignment_Db_pc1 + Assignment_Db_pc4\n",
              " + Assignment_Db_pc5 + Assignment_Db_pc6 >= 1\n",
              "\n",
              "_C4: Assignment_Db_pc1 + Assignment_Dc_pc1 = 1\n",
              "\n",
              "_C5: Assignment_Db_pb2 + Assignment_Dc_pb2 = 1\n",
              "\n",
              "_C6: Assignment_Db_pb3 + Assignment_Dc_pb3 = 1\n",
              "\n",
              "_C7: Assignment_Db_pc4 + Assignment_Dc_pc4 = 1\n",
              "\n",
              "_C8: Assignment_Db_pc5 + Assignment_Dc_pc5 = 1\n",
              "\n",
              "_C9: Assignment_Db_pc6 + Assignment_Dc_pc6 = 1\n",
              "\n",
              "_C10: Assignment_Db_pb7 + Assignment_Dc_pb7 = 1\n",
              "\n",
              "_C11: Assignment_Db_pb8 + Assignment_Dc_pb8 = 1\n",
              "\n",
              "VARIABLES\n",
              "0 <= Assignment_Db_pb2 <= 1 Integer\n",
              "0 <= Assignment_Db_pb3 <= 1 Integer\n",
              "0 <= Assignment_Db_pb7 <= 1 Integer\n",
              "0 <= Assignment_Db_pb8 <= 1 Integer\n",
              "0 <= Assignment_Db_pc1 <= 1 Integer\n",
              "0 <= Assignment_Db_pc4 <= 1 Integer\n",
              "0 <= Assignment_Db_pc5 <= 1 Integer\n",
              "0 <= Assignment_Db_pc6 <= 1 Integer\n",
              "0 <= Assignment_Dc_pb2 <= 1 Integer\n",
              "0 <= Assignment_Dc_pb3 <= 1 Integer\n",
              "0 <= Assignment_Dc_pb7 <= 1 Integer\n",
              "0 <= Assignment_Dc_pb8 <= 1 Integer\n",
              "0 <= Assignment_Dc_pc1 <= 1 Integer\n",
              "0 <= Assignment_Dc_pc4 <= 1 Integer\n",
              "0 <= Assignment_Dc_pc5 <= 1 Integer\n",
              "0 <= Assignment_Dc_pc6 <= 1 Integer\n",
              "__dummy = 0 Continuous"
            ]
          },
          "metadata": {
            "tags": []
          },
          "execution_count": 10
        }
      ]
    },
    {
      "cell_type": "code",
      "metadata": {
        "id": "fZeyLCC_29Q4",
        "colab_type": "code",
        "outputId": "2e49e787-09e8-453b-d598-07fbe7741a44",
        "colab": {}
      },
      "source": [
        "for v in problem.variables():\n",
        "    print(v.name, \"=\", v.varValue)"
      ],
      "execution_count": 0,
      "outputs": [
        {
          "output_type": "stream",
          "text": [
            "Assignment_Db_pb2 = 1.0\n",
            "Assignment_Db_pb3 = 1.0\n",
            "Assignment_Db_pb7 = 1.0\n",
            "Assignment_Db_pb8 = 0.0\n",
            "Assignment_Db_pc1 = 0.0\n",
            "Assignment_Db_pc4 = 0.0\n",
            "Assignment_Db_pc5 = 0.0\n",
            "Assignment_Db_pc6 = 0.0\n",
            "Assignment_Dc_pb2 = 0.0\n",
            "Assignment_Dc_pb3 = 0.0\n",
            "Assignment_Dc_pb7 = 0.0\n",
            "Assignment_Dc_pb8 = 1.0\n",
            "Assignment_Dc_pc1 = 1.0\n",
            "Assignment_Dc_pc4 = 1.0\n",
            "Assignment_Dc_pc5 = 1.0\n",
            "Assignment_Dc_pc6 = 1.0\n",
            "__dummy = None\n"
          ],
          "name": "stdout"
        }
      ]
    }
  ]
}